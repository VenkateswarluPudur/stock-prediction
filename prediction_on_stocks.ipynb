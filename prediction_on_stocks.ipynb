{
  "nbformat": 4,
  "nbformat_minor": 0,
  "metadata": {
    "colab": {
      "name": "prediction on stocks.ipynb",
      "provenance": []
    },
    "kernelspec": {
      "name": "python3",
      "display_name": "Python 3"
    },
    "language_info": {
      "name": "python"
    }
  },
  "cells": [
    {
      "cell_type": "code",
      "execution_count": 1,
      "metadata": {
        "colab": {
          "base_uri": "https://localhost:8080/"
        },
        "id": "AMW9G-Y3QL_-",
        "outputId": "a70f4909-946b-485a-a10c-8f77d3d4e007"
      },
      "outputs": [
        {
          "output_type": "stream",
          "name": "stdout",
          "text": [
            "Looking in indexes: https://pypi.org/simple, https://us-python.pkg.dev/colab-wheels/public/simple/\n",
            "Requirement already satisfied: keras in /usr/local/lib/python3.7/dist-packages (2.8.0)\n"
          ]
        }
      ],
      "source": [
        "!pip install keras"
      ]
    },
    {
      "cell_type": "code",
      "source": [
        "pip install tensorflow"
      ],
      "metadata": {
        "colab": {
          "base_uri": "https://localhost:8080/"
        },
        "id": "sRUwazMQQNXp",
        "outputId": "e2039ca1-7f7f-47bd-d970-a08d0eacc416"
      },
      "execution_count": 5,
      "outputs": [
        {
          "output_type": "stream",
          "name": "stdout",
          "text": [
            "Looking in indexes: https://pypi.org/simple, https://us-python.pkg.dev/colab-wheels/public/simple/\n",
            "Requirement already satisfied: tensorflow in /usr/local/lib/python3.7/dist-packages (2.8.0+zzzcolab20220506162203)\n",
            "Requirement already satisfied: grpcio<2.0,>=1.24.3 in /usr/local/lib/python3.7/dist-packages (from tensorflow) (1.46.1)\n",
            "Requirement already satisfied: protobuf>=3.9.2 in /usr/local/lib/python3.7/dist-packages (from tensorflow) (3.17.3)\n",
            "Requirement already satisfied: tensorflow-io-gcs-filesystem>=0.23.1 in /usr/local/lib/python3.7/dist-packages (from tensorflow) (0.26.0)\n",
            "Requirement already satisfied: setuptools in /usr/local/lib/python3.7/dist-packages (from tensorflow) (57.4.0)\n",
            "Requirement already satisfied: six>=1.12.0 in /usr/local/lib/python3.7/dist-packages (from tensorflow) (1.15.0)\n",
            "Requirement already satisfied: tensorboard<2.9,>=2.8 in /usr/local/lib/python3.7/dist-packages (from tensorflow) (2.8.0)\n",
            "Requirement already satisfied: keras<2.9,>=2.8.0rc0 in /usr/local/lib/python3.7/dist-packages (from tensorflow) (2.8.0)\n",
            "Requirement already satisfied: flatbuffers>=1.12 in /usr/local/lib/python3.7/dist-packages (from tensorflow) (2.0)\n",
            "Requirement already satisfied: opt-einsum>=2.3.2 in /usr/local/lib/python3.7/dist-packages (from tensorflow) (3.3.0)\n",
            "Collecting tf-estimator-nightly==2.8.0.dev2021122109\n",
            "  Downloading tf_estimator_nightly-2.8.0.dev2021122109-py2.py3-none-any.whl (462 kB)\n",
            "\u001b[K     |████████████████████████████████| 462 kB 26.5 MB/s \n",
            "\u001b[?25hRequirement already satisfied: gast>=0.2.1 in /usr/local/lib/python3.7/dist-packages (from tensorflow) (0.5.3)\n",
            "Requirement already satisfied: google-pasta>=0.1.1 in /usr/local/lib/python3.7/dist-packages (from tensorflow) (0.2.0)\n",
            "Requirement already satisfied: numpy>=1.20 in /usr/local/lib/python3.7/dist-packages (from tensorflow) (1.21.6)\n",
            "Requirement already satisfied: libclang>=9.0.1 in /usr/local/lib/python3.7/dist-packages (from tensorflow) (14.0.1)\n",
            "Requirement already satisfied: wrapt>=1.11.0 in /usr/local/lib/python3.7/dist-packages (from tensorflow) (1.14.1)\n",
            "Requirement already satisfied: h5py>=2.9.0 in /usr/local/lib/python3.7/dist-packages (from tensorflow) (3.1.0)\n",
            "Requirement already satisfied: termcolor>=1.1.0 in /usr/local/lib/python3.7/dist-packages (from tensorflow) (1.1.0)\n",
            "Requirement already satisfied: absl-py>=0.4.0 in /usr/local/lib/python3.7/dist-packages (from tensorflow) (1.0.0)\n",
            "Requirement already satisfied: keras-preprocessing>=1.1.1 in /usr/local/lib/python3.7/dist-packages (from tensorflow) (1.1.2)\n",
            "Requirement already satisfied: typing-extensions>=3.6.6 in /usr/local/lib/python3.7/dist-packages (from tensorflow) (4.2.0)\n",
            "Requirement already satisfied: astunparse>=1.6.0 in /usr/local/lib/python3.7/dist-packages (from tensorflow) (1.6.3)\n",
            "Requirement already satisfied: wheel<1.0,>=0.23.0 in /usr/local/lib/python3.7/dist-packages (from astunparse>=1.6.0->tensorflow) (0.37.1)\n",
            "Requirement already satisfied: cached-property in /usr/local/lib/python3.7/dist-packages (from h5py>=2.9.0->tensorflow) (1.5.2)\n",
            "Requirement already satisfied: tensorboard-data-server<0.7.0,>=0.6.0 in /usr/local/lib/python3.7/dist-packages (from tensorboard<2.9,>=2.8->tensorflow) (0.6.1)\n",
            "Requirement already satisfied: tensorboard-plugin-wit>=1.6.0 in /usr/local/lib/python3.7/dist-packages (from tensorboard<2.9,>=2.8->tensorflow) (1.8.1)\n",
            "Requirement already satisfied: requests<3,>=2.21.0 in /usr/local/lib/python3.7/dist-packages (from tensorboard<2.9,>=2.8->tensorflow) (2.23.0)\n",
            "Requirement already satisfied: google-auth<3,>=1.6.3 in /usr/local/lib/python3.7/dist-packages (from tensorboard<2.9,>=2.8->tensorflow) (1.35.0)\n",
            "Requirement already satisfied: werkzeug>=0.11.15 in /usr/local/lib/python3.7/dist-packages (from tensorboard<2.9,>=2.8->tensorflow) (1.0.1)\n",
            "Requirement already satisfied: markdown>=2.6.8 in /usr/local/lib/python3.7/dist-packages (from tensorboard<2.9,>=2.8->tensorflow) (3.3.7)\n",
            "Requirement already satisfied: google-auth-oauthlib<0.5,>=0.4.1 in /usr/local/lib/python3.7/dist-packages (from tensorboard<2.9,>=2.8->tensorflow) (0.4.6)\n",
            "Requirement already satisfied: cachetools<5.0,>=2.0.0 in /usr/local/lib/python3.7/dist-packages (from google-auth<3,>=1.6.3->tensorboard<2.9,>=2.8->tensorflow) (4.2.4)\n",
            "Requirement already satisfied: pyasn1-modules>=0.2.1 in /usr/local/lib/python3.7/dist-packages (from google-auth<3,>=1.6.3->tensorboard<2.9,>=2.8->tensorflow) (0.2.8)\n",
            "Requirement already satisfied: rsa<5,>=3.1.4 in /usr/local/lib/python3.7/dist-packages (from google-auth<3,>=1.6.3->tensorboard<2.9,>=2.8->tensorflow) (4.8)\n",
            "Requirement already satisfied: requests-oauthlib>=0.7.0 in /usr/local/lib/python3.7/dist-packages (from google-auth-oauthlib<0.5,>=0.4.1->tensorboard<2.9,>=2.8->tensorflow) (1.3.1)\n",
            "Requirement already satisfied: importlib-metadata>=4.4 in /usr/local/lib/python3.7/dist-packages (from markdown>=2.6.8->tensorboard<2.9,>=2.8->tensorflow) (4.11.3)\n",
            "Requirement already satisfied: zipp>=0.5 in /usr/local/lib/python3.7/dist-packages (from importlib-metadata>=4.4->markdown>=2.6.8->tensorboard<2.9,>=2.8->tensorflow) (3.8.0)\n",
            "Requirement already satisfied: pyasn1<0.5.0,>=0.4.6 in /usr/local/lib/python3.7/dist-packages (from pyasn1-modules>=0.2.1->google-auth<3,>=1.6.3->tensorboard<2.9,>=2.8->tensorflow) (0.4.8)\n",
            "Requirement already satisfied: chardet<4,>=3.0.2 in /usr/local/lib/python3.7/dist-packages (from requests<3,>=2.21.0->tensorboard<2.9,>=2.8->tensorflow) (3.0.4)\n",
            "Requirement already satisfied: certifi>=2017.4.17 in /usr/local/lib/python3.7/dist-packages (from requests<3,>=2.21.0->tensorboard<2.9,>=2.8->tensorflow) (2022.5.18.1)\n",
            "Requirement already satisfied: urllib3!=1.25.0,!=1.25.1,<1.26,>=1.21.1 in /usr/local/lib/python3.7/dist-packages (from requests<3,>=2.21.0->tensorboard<2.9,>=2.8->tensorflow) (1.24.3)\n",
            "Requirement already satisfied: idna<3,>=2.5 in /usr/local/lib/python3.7/dist-packages (from requests<3,>=2.21.0->tensorboard<2.9,>=2.8->tensorflow) (2.10)\n",
            "Requirement already satisfied: oauthlib>=3.0.0 in /usr/local/lib/python3.7/dist-packages (from requests-oauthlib>=0.7.0->google-auth-oauthlib<0.5,>=0.4.1->tensorboard<2.9,>=2.8->tensorflow) (3.2.0)\n",
            "Installing collected packages: tf-estimator-nightly\n",
            "Successfully installed tf-estimator-nightly-2.8.0.dev2021122109\n"
          ]
        }
      ]
    },
    {
      "cell_type": "code",
      "source": [
        "import pandas as pd\n",
        "import numpy as np\n",
        "%matplotlib inline\n",
        "import matplotlib. pyplot as plt\n",
        "import matplotlib\n",
        "from sklearn.preprocessing import MinMaxScaler\n",
        "from keras.layers import LSTM, Dense, Dropout\n",
        "from sklearn.model_selection import TimeSeriesSplit\n",
        "from sklearn.metrics import mean_squared_error, r2_score\n",
        "import matplotlib. dates as mandates\n",
        "\n",
        "from sklearn import linear_model\n",
        "import tensorflow as tf\n",
        "from tensorflow import keras\n",
        "\n",
        "from keras.layers import Dense\n",
        "import keras. backend as K\n",
        "from keras. callbacks import EarlyStopping\n",
        "\n",
        "from keras. models import load_model\n",
        "from keras. layers import LSTM\n",
        "from keras. utils.vis_utils import plot_model\n"
      ],
      "metadata": {
        "id": "NoZqich-QT60"
      },
      "execution_count": 141,
      "outputs": []
    },
    {
      "cell_type": "code",
      "source": [
        "data = pd.read_csv(\"Exam_Data.xlsx - Predictor.csv\")"
      ],
      "metadata": {
        "id": "th4w-aQsQgJs"
      },
      "execution_count": 142,
      "outputs": []
    },
    {
      "cell_type": "code",
      "source": [
        "data.shape"
      ],
      "metadata": {
        "colab": {
          "base_uri": "https://localhost:8080/"
        },
        "id": "iW52RlD6Scp2",
        "outputId": "b04eebb3-7aeb-40f0-9a09-6f2473de72a9"
      },
      "execution_count": 143,
      "outputs": [
        {
          "output_type": "execute_result",
          "data": {
            "text/plain": [
              "(23040, 18)"
            ]
          },
          "metadata": {},
          "execution_count": 143
        }
      ]
    },
    {
      "cell_type": "code",
      "source": [
        "data.dtypes"
      ],
      "metadata": {
        "colab": {
          "base_uri": "https://localhost:8080/"
        },
        "id": "wCjPPH50ZcvB",
        "outputId": "523aed54-acd0-4df0-be64-21df0d5615b9"
      },
      "execution_count": 144,
      "outputs": [
        {
          "output_type": "execute_result",
          "data": {
            "text/plain": [
              "Date                    object\n",
              "Target                 float64\n",
              "Hour                     int64\n",
              "Period_In_Hour           int64\n",
              "Week_Day                 int64\n",
              "Is_Working_Day           int64\n",
              "Previous_Point         float64\n",
              "Previous_Hour_Price    float64\n",
              "P24HA_Price            float64\n",
              "PDSH_Price             float64\n",
              "PWSH_Price             float64\n",
              "PWA_Price              float64\n",
              "Price_HAP              float64\n",
              "Price_DAP              float64\n",
              "Load                   float64\n",
              "Load_HAP               float64\n",
              "Load_DAP               float64\n",
              "Sgn0_Volume_Dir        float64\n",
              "dtype: object"
            ]
          },
          "metadata": {},
          "execution_count": 144
        }
      ]
    },
    {
      "cell_type": "code",
      "source": [
        "data.isna().sum()"
      ],
      "metadata": {
        "colab": {
          "base_uri": "https://localhost:8080/"
        },
        "id": "9XuA-zJ8S663",
        "outputId": "c5332501-0b8a-4a77-cf24-1d22750d9b4b"
      },
      "execution_count": 145,
      "outputs": [
        {
          "output_type": "execute_result",
          "data": {
            "text/plain": [
              "Date                       0\n",
              "Target                     0\n",
              "Hour                       0\n",
              "Period_In_Hour             0\n",
              "Week_Day                   0\n",
              "Is_Working_Day             0\n",
              "Previous_Point           160\n",
              "Previous_Hour_Price       12\n",
              "P24HA_Price               24\n",
              "PDSH_Price               288\n",
              "PWSH_Price              2016\n",
              "PWA_Price               2016\n",
              "Price_HAP                  0\n",
              "Price_DAP              21228\n",
              "Load                     290\n",
              "Load_HAP                   0\n",
              "Load_DAP               21120\n",
              "Sgn0_Volume_Dir           71\n",
              "dtype: int64"
            ]
          },
          "metadata": {},
          "execution_count": 145
        }
      ]
    },
    {
      "cell_type": "code",
      "source": [
        "data.head()"
      ],
      "metadata": {
        "colab": {
          "base_uri": "https://localhost:8080/",
          "height": 357
        },
        "id": "lJ-ifHSUTH63",
        "outputId": "5804a05b-38b6-4d38-e0ad-5cebabfc27bc"
      },
      "execution_count": 146,
      "outputs": [
        {
          "output_type": "execute_result",
          "data": {
            "text/plain": [
              "          Date       Target  Hour  Period_In_Hour  Week_Day  Is_Working_Day  \\\n",
              "0  8/1/21 0:00   3312.86300     1               1         6               2   \n",
              "1  8/1/21 0:05  21185.46580     1               2         6               2   \n",
              "2  8/1/21 0:10  15381.50925     1               3         6               2   \n",
              "3  8/1/21 0:15  13280.22700     1               4         6               2   \n",
              "4  8/1/21 0:20   7834.12600     1               5         6               2   \n",
              "\n",
              "   Previous_Point  Previous_Hour_Price  P24HA_Price  PDSH_Price  PWSH_Price  \\\n",
              "0             NaN                  NaN          NaN         NaN         NaN   \n",
              "1      3312.86300                  NaN          NaN         NaN         NaN   \n",
              "2     21185.46580                  NaN          NaN         NaN         NaN   \n",
              "3     15381.50925                  NaN          NaN         NaN         NaN   \n",
              "4     13280.22700                  NaN          NaN         NaN         NaN   \n",
              "\n",
              "   PWA_Price    Price_HAP  Price_DAP     Load  Load_HAP  Load_DAP  \\\n",
              "0        NaN  15395.51435        NaN  8226.80   8313.50   8009.44   \n",
              "1        NaN  13294.48275        NaN  8322.14   8258.65       NaN   \n",
              "2        NaN  13290.43905        NaN  8270.98   8225.63       NaN   \n",
              "3        NaN  12057.52935        NaN  8222.24   8200.11       NaN   \n",
              "4        NaN   3307.37600        NaN  8145.20   8144.68       NaN   \n",
              "\n",
              "   Sgn0_Volume_Dir  \n",
              "0              NaN  \n",
              "1              NaN  \n",
              "2              NaN  \n",
              "3              NaN  \n",
              "4              NaN  "
            ],
            "text/html": [
              "\n",
              "  <div id=\"df-1bd8174f-b4c6-4870-a1c6-6b521c637c3b\">\n",
              "    <div class=\"colab-df-container\">\n",
              "      <div>\n",
              "<style scoped>\n",
              "    .dataframe tbody tr th:only-of-type {\n",
              "        vertical-align: middle;\n",
              "    }\n",
              "\n",
              "    .dataframe tbody tr th {\n",
              "        vertical-align: top;\n",
              "    }\n",
              "\n",
              "    .dataframe thead th {\n",
              "        text-align: right;\n",
              "    }\n",
              "</style>\n",
              "<table border=\"1\" class=\"dataframe\">\n",
              "  <thead>\n",
              "    <tr style=\"text-align: right;\">\n",
              "      <th></th>\n",
              "      <th>Date</th>\n",
              "      <th>Target</th>\n",
              "      <th>Hour</th>\n",
              "      <th>Period_In_Hour</th>\n",
              "      <th>Week_Day</th>\n",
              "      <th>Is_Working_Day</th>\n",
              "      <th>Previous_Point</th>\n",
              "      <th>Previous_Hour_Price</th>\n",
              "      <th>P24HA_Price</th>\n",
              "      <th>PDSH_Price</th>\n",
              "      <th>PWSH_Price</th>\n",
              "      <th>PWA_Price</th>\n",
              "      <th>Price_HAP</th>\n",
              "      <th>Price_DAP</th>\n",
              "      <th>Load</th>\n",
              "      <th>Load_HAP</th>\n",
              "      <th>Load_DAP</th>\n",
              "      <th>Sgn0_Volume_Dir</th>\n",
              "    </tr>\n",
              "  </thead>\n",
              "  <tbody>\n",
              "    <tr>\n",
              "      <th>0</th>\n",
              "      <td>8/1/21 0:00</td>\n",
              "      <td>3312.86300</td>\n",
              "      <td>1</td>\n",
              "      <td>1</td>\n",
              "      <td>6</td>\n",
              "      <td>2</td>\n",
              "      <td>NaN</td>\n",
              "      <td>NaN</td>\n",
              "      <td>NaN</td>\n",
              "      <td>NaN</td>\n",
              "      <td>NaN</td>\n",
              "      <td>NaN</td>\n",
              "      <td>15395.51435</td>\n",
              "      <td>NaN</td>\n",
              "      <td>8226.80</td>\n",
              "      <td>8313.50</td>\n",
              "      <td>8009.44</td>\n",
              "      <td>NaN</td>\n",
              "    </tr>\n",
              "    <tr>\n",
              "      <th>1</th>\n",
              "      <td>8/1/21 0:05</td>\n",
              "      <td>21185.46580</td>\n",
              "      <td>1</td>\n",
              "      <td>2</td>\n",
              "      <td>6</td>\n",
              "      <td>2</td>\n",
              "      <td>3312.86300</td>\n",
              "      <td>NaN</td>\n",
              "      <td>NaN</td>\n",
              "      <td>NaN</td>\n",
              "      <td>NaN</td>\n",
              "      <td>NaN</td>\n",
              "      <td>13294.48275</td>\n",
              "      <td>NaN</td>\n",
              "      <td>8322.14</td>\n",
              "      <td>8258.65</td>\n",
              "      <td>NaN</td>\n",
              "      <td>NaN</td>\n",
              "    </tr>\n",
              "    <tr>\n",
              "      <th>2</th>\n",
              "      <td>8/1/21 0:10</td>\n",
              "      <td>15381.50925</td>\n",
              "      <td>1</td>\n",
              "      <td>3</td>\n",
              "      <td>6</td>\n",
              "      <td>2</td>\n",
              "      <td>21185.46580</td>\n",
              "      <td>NaN</td>\n",
              "      <td>NaN</td>\n",
              "      <td>NaN</td>\n",
              "      <td>NaN</td>\n",
              "      <td>NaN</td>\n",
              "      <td>13290.43905</td>\n",
              "      <td>NaN</td>\n",
              "      <td>8270.98</td>\n",
              "      <td>8225.63</td>\n",
              "      <td>NaN</td>\n",
              "      <td>NaN</td>\n",
              "    </tr>\n",
              "    <tr>\n",
              "      <th>3</th>\n",
              "      <td>8/1/21 0:15</td>\n",
              "      <td>13280.22700</td>\n",
              "      <td>1</td>\n",
              "      <td>4</td>\n",
              "      <td>6</td>\n",
              "      <td>2</td>\n",
              "      <td>15381.50925</td>\n",
              "      <td>NaN</td>\n",
              "      <td>NaN</td>\n",
              "      <td>NaN</td>\n",
              "      <td>NaN</td>\n",
              "      <td>NaN</td>\n",
              "      <td>12057.52935</td>\n",
              "      <td>NaN</td>\n",
              "      <td>8222.24</td>\n",
              "      <td>8200.11</td>\n",
              "      <td>NaN</td>\n",
              "      <td>NaN</td>\n",
              "    </tr>\n",
              "    <tr>\n",
              "      <th>4</th>\n",
              "      <td>8/1/21 0:20</td>\n",
              "      <td>7834.12600</td>\n",
              "      <td>1</td>\n",
              "      <td>5</td>\n",
              "      <td>6</td>\n",
              "      <td>2</td>\n",
              "      <td>13280.22700</td>\n",
              "      <td>NaN</td>\n",
              "      <td>NaN</td>\n",
              "      <td>NaN</td>\n",
              "      <td>NaN</td>\n",
              "      <td>NaN</td>\n",
              "      <td>3307.37600</td>\n",
              "      <td>NaN</td>\n",
              "      <td>8145.20</td>\n",
              "      <td>8144.68</td>\n",
              "      <td>NaN</td>\n",
              "      <td>NaN</td>\n",
              "    </tr>\n",
              "  </tbody>\n",
              "</table>\n",
              "</div>\n",
              "      <button class=\"colab-df-convert\" onclick=\"convertToInteractive('df-1bd8174f-b4c6-4870-a1c6-6b521c637c3b')\"\n",
              "              title=\"Convert this dataframe to an interactive table.\"\n",
              "              style=\"display:none;\">\n",
              "        \n",
              "  <svg xmlns=\"http://www.w3.org/2000/svg\" height=\"24px\"viewBox=\"0 0 24 24\"\n",
              "       width=\"24px\">\n",
              "    <path d=\"M0 0h24v24H0V0z\" fill=\"none\"/>\n",
              "    <path d=\"M18.56 5.44l.94 2.06.94-2.06 2.06-.94-2.06-.94-.94-2.06-.94 2.06-2.06.94zm-11 1L8.5 8.5l.94-2.06 2.06-.94-2.06-.94L8.5 2.5l-.94 2.06-2.06.94zm10 10l.94 2.06.94-2.06 2.06-.94-2.06-.94-.94-2.06-.94 2.06-2.06.94z\"/><path d=\"M17.41 7.96l-1.37-1.37c-.4-.4-.92-.59-1.43-.59-.52 0-1.04.2-1.43.59L10.3 9.45l-7.72 7.72c-.78.78-.78 2.05 0 2.83L4 21.41c.39.39.9.59 1.41.59.51 0 1.02-.2 1.41-.59l7.78-7.78 2.81-2.81c.8-.78.8-2.07 0-2.86zM5.41 20L4 18.59l7.72-7.72 1.47 1.35L5.41 20z\"/>\n",
              "  </svg>\n",
              "      </button>\n",
              "      \n",
              "  <style>\n",
              "    .colab-df-container {\n",
              "      display:flex;\n",
              "      flex-wrap:wrap;\n",
              "      gap: 12px;\n",
              "    }\n",
              "\n",
              "    .colab-df-convert {\n",
              "      background-color: #E8F0FE;\n",
              "      border: none;\n",
              "      border-radius: 50%;\n",
              "      cursor: pointer;\n",
              "      display: none;\n",
              "      fill: #1967D2;\n",
              "      height: 32px;\n",
              "      padding: 0 0 0 0;\n",
              "      width: 32px;\n",
              "    }\n",
              "\n",
              "    .colab-df-convert:hover {\n",
              "      background-color: #E2EBFA;\n",
              "      box-shadow: 0px 1px 2px rgba(60, 64, 67, 0.3), 0px 1px 3px 1px rgba(60, 64, 67, 0.15);\n",
              "      fill: #174EA6;\n",
              "    }\n",
              "\n",
              "    [theme=dark] .colab-df-convert {\n",
              "      background-color: #3B4455;\n",
              "      fill: #D2E3FC;\n",
              "    }\n",
              "\n",
              "    [theme=dark] .colab-df-convert:hover {\n",
              "      background-color: #434B5C;\n",
              "      box-shadow: 0px 1px 3px 1px rgba(0, 0, 0, 0.15);\n",
              "      filter: drop-shadow(0px 1px 2px rgba(0, 0, 0, 0.3));\n",
              "      fill: #FFFFFF;\n",
              "    }\n",
              "  </style>\n",
              "\n",
              "      <script>\n",
              "        const buttonEl =\n",
              "          document.querySelector('#df-1bd8174f-b4c6-4870-a1c6-6b521c637c3b button.colab-df-convert');\n",
              "        buttonEl.style.display =\n",
              "          google.colab.kernel.accessAllowed ? 'block' : 'none';\n",
              "\n",
              "        async function convertToInteractive(key) {\n",
              "          const element = document.querySelector('#df-1bd8174f-b4c6-4870-a1c6-6b521c637c3b');\n",
              "          const dataTable =\n",
              "            await google.colab.kernel.invokeFunction('convertToInteractive',\n",
              "                                                     [key], {});\n",
              "          if (!dataTable) return;\n",
              "\n",
              "          const docLinkHtml = 'Like what you see? Visit the ' +\n",
              "            '<a target=\"_blank\" href=https://colab.research.google.com/notebooks/data_table.ipynb>data table notebook</a>'\n",
              "            + ' to learn more about interactive tables.';\n",
              "          element.innerHTML = '';\n",
              "          dataTable['output_type'] = 'display_data';\n",
              "          await google.colab.output.renderOutput(dataTable, element);\n",
              "          const docLink = document.createElement('div');\n",
              "          docLink.innerHTML = docLinkHtml;\n",
              "          element.appendChild(docLink);\n",
              "        }\n",
              "      </script>\n",
              "    </div>\n",
              "  </div>\n",
              "  "
            ]
          },
          "metadata": {},
          "execution_count": 146
        }
      ]
    },
    {
      "cell_type": "code",
      "source": [
        "\n",
        "# on our data, impute the missing values using the interpolation techniques and specifically, the lineare method\n",
        "data['Previous_Point']= data['Previous_Point'].fillna(method ='bfill')\n",
        "data['P24HA_Price']= data['P24HA_Price'].fillna(method ='bfill')\n",
        "data['PDSH_Price']= data['PDSH_Price'].fillna(method ='bfill')\n",
        "data['PWA_Price']= data['PWA_Price'].fillna(method ='bfill')\n",
        "data['Load']= data['Load'].fillna(method ='bfill')\n",
        "data['Sgn0_Volume_Dir']= data['Sgn0_Volume_Dir'].fillna(method ='bfill')\n",
        "data['Previous_Hour_Price']= data['Previous_Hour_Price'].fillna(method ='bfill')\n",
        "\n",
        "\n",
        "\n",
        "\n",
        "\n",
        "\n",
        "\n"
      ],
      "metadata": {
        "id": "1BLIDVd3TRFm"
      },
      "execution_count": 147,
      "outputs": []
    },
    {
      "cell_type": "code",
      "source": [
        "data.isna().sum()"
      ],
      "metadata": {
        "colab": {
          "base_uri": "https://localhost:8080/"
        },
        "id": "GXIYIEscVhC8",
        "outputId": "24917fa0-b82b-4749-ecd9-7b12f0a00936"
      },
      "execution_count": 148,
      "outputs": [
        {
          "output_type": "execute_result",
          "data": {
            "text/plain": [
              "Date                       0\n",
              "Target                     0\n",
              "Hour                       0\n",
              "Period_In_Hour             0\n",
              "Week_Day                   0\n",
              "Is_Working_Day             0\n",
              "Previous_Point             0\n",
              "Previous_Hour_Price        0\n",
              "P24HA_Price                0\n",
              "PDSH_Price                 0\n",
              "PWSH_Price              2016\n",
              "PWA_Price                  0\n",
              "Price_HAP                  0\n",
              "Price_DAP              21228\n",
              "Load                       0\n",
              "Load_HAP                   0\n",
              "Load_DAP               21120\n",
              "Sgn0_Volume_Dir            0\n",
              "dtype: int64"
            ]
          },
          "metadata": {},
          "execution_count": 148
        }
      ]
    },
    {
      "cell_type": "code",
      "source": [
        "data.drop([\"Load_DAP\",\"Price_DAP\",\"PWSH_Price\"],axis = 1 , inplace = True)"
      ],
      "metadata": {
        "id": "5U1CdgJRVtXi"
      },
      "execution_count": 149,
      "outputs": []
    },
    {
      "cell_type": "code",
      "source": [
        "data.isna().sum()"
      ],
      "metadata": {
        "colab": {
          "base_uri": "https://localhost:8080/"
        },
        "id": "DPB7V1G8Xx7m",
        "outputId": "b0ca66cf-7dda-4b72-ae41-401cd9f7221b"
      },
      "execution_count": 150,
      "outputs": [
        {
          "output_type": "execute_result",
          "data": {
            "text/plain": [
              "Date                   0\n",
              "Target                 0\n",
              "Hour                   0\n",
              "Period_In_Hour         0\n",
              "Week_Day               0\n",
              "Is_Working_Day         0\n",
              "Previous_Point         0\n",
              "Previous_Hour_Price    0\n",
              "P24HA_Price            0\n",
              "PDSH_Price             0\n",
              "PWA_Price              0\n",
              "Price_HAP              0\n",
              "Load                   0\n",
              "Load_HAP               0\n",
              "Sgn0_Volume_Dir        0\n",
              "dtype: int64"
            ]
          },
          "metadata": {},
          "execution_count": 150
        }
      ]
    },
    {
      "cell_type": "code",
      "source": [
        "data[\"Target\"].plot()"
      ],
      "metadata": {
        "colab": {
          "base_uri": "https://localhost:8080/",
          "height": 282
        },
        "id": "a5tF-5IZX1me",
        "outputId": "16d90610-657d-42e3-9d9a-2107a85365ee"
      },
      "execution_count": 151,
      "outputs": [
        {
          "output_type": "execute_result",
          "data": {
            "text/plain": [
              "<matplotlib.axes._subplots.AxesSubplot at 0x7fecef634490>"
            ]
          },
          "metadata": {},
          "execution_count": 151
        },
        {
          "output_type": "display_data",
          "data": {
            "text/plain": [
              "<Figure size 432x288 with 1 Axes>"
            ],
            "image/png": "[encoded data removed]"
          },
          "metadata": {
            "needs_background": "light"
          }
        }
      ]
    },
    {
      "cell_type": "code",
      "source": [
        "#Set Target Variable\n",
        "output = pd.DataFrame(data[\"Target\"])\n",
        "#Selecting the Features\n",
        "features = [\"Previous_Point\",\"Previous_Hour_Price\",\"P24HA_Price\",\"PDSH_Price\",\"PWA_Price\",\"Price_HAP\",\"Load\",\"Load_HAP\"]"
      ],
      "metadata": {
        "id": "w_CbJ3wMYDLP"
      },
      "execution_count": 152,
      "outputs": []
    },
    {
      "cell_type": "code",
      "source": [
        "#Scaling\n",
        "scaler = MinMaxScaler()\n",
        "feature_transform = scaler.fit_transform(data[features])\n",
        "feature_transform= pd.DataFrame(columns=features, data=feature_transform, index=data[\"Date\"])\n",
        "feature_transform.head()"
      ],
      "metadata": {
        "colab": {
          "base_uri": "https://localhost:8080/",
          "height": 237
        },
        "id": "VAztYrpnZBWW",
        "outputId": "2371ea81-3cb9-4835-8bef-92b4f0e745f9"
      },
      "execution_count": 155,
      "outputs": [
        {
          "output_type": "execute_result",
          "data": {
            "text/plain": [
              "             Previous_Point  Previous_Hour_Price  P24HA_Price  PDSH_Price  \\\n",
              "Date                                                                        \n",
              "8/1/21 0:00        0.311093             0.311093      0.34099    0.311093   \n",
              "8/1/21 0:05        0.311093             0.311093      0.34099    0.311093   \n",
              "8/1/21 0:10        0.728736             0.311093      0.34099    0.311093   \n",
              "8/1/21 0:15        0.593111             0.311093      0.34099    0.311093   \n",
              "8/1/21 0:20        0.544008             0.311093      0.34099    0.311093   \n",
              "\n",
              "             PWA_Price  Price_HAP      Load  Load_HAP  \n",
              "Date                                                   \n",
              "8/1/21 0:00    0.29098   0.581360  0.439614  0.465782  \n",
              "8/1/21 0:05    0.29098   0.533046  0.460788  0.453750  \n",
              "8/1/21 0:10    0.29098   0.532953  0.449426  0.446506  \n",
              "8/1/21 0:15    0.29098   0.504602  0.438602  0.440907  \n",
              "8/1/21 0:20    0.29098   0.303389  0.421492  0.428747  "
            ],
            "text/html": [
              "\n",
              "  <div id=\"df-1d00b047-1d05-44f9-b9c8-fc5cecbed798\">\n",
              "    <div class=\"colab-df-container\">\n",
              "      <div>\n",
              "<style scoped>\n",
              "    .dataframe tbody tr th:only-of-type {\n",
              "        vertical-align: middle;\n",
              "    }\n",
              "\n",
              "    .dataframe tbody tr th {\n",
              "        vertical-align: top;\n",
              "    }\n",
              "\n",
              "    .dataframe thead th {\n",
              "        text-align: right;\n",
              "    }\n",
              "</style>\n",
              "<table border=\"1\" class=\"dataframe\">\n",
              "  <thead>\n",
              "    <tr style=\"text-align: right;\">\n",
              "      <th></th>\n",
              "      <th>Previous_Point</th>\n",
              "      <th>Previous_Hour_Price</th>\n",
              "      <th>P24HA_Price</th>\n",
              "      <th>PDSH_Price</th>\n",
              "      <th>PWA_Price</th>\n",
              "      <th>Price_HAP</th>\n",
              "      <th>Load</th>\n",
              "      <th>Load_HAP</th>\n",
              "    </tr>\n",
              "    <tr>\n",
              "      <th>Date</th>\n",
              "      <th></th>\n",
              "      <th></th>\n",
              "      <th></th>\n",
              "      <th></th>\n",
              "      <th></th>\n",
              "      <th></th>\n",
              "      <th></th>\n",
              "      <th></th>\n",
              "    </tr>\n",
              "  </thead>\n",
              "  <tbody>\n",
              "    <tr>\n",
              "      <th>8/1/21 0:00</th>\n",
              "      <td>0.311093</td>\n",
              "      <td>0.311093</td>\n",
              "      <td>0.34099</td>\n",
              "      <td>0.311093</td>\n",
              "      <td>0.29098</td>\n",
              "      <td>0.581360</td>\n",
              "      <td>0.439614</td>\n",
              "      <td>0.465782</td>\n",
              "    </tr>\n",
              "    <tr>\n",
              "      <th>8/1/21 0:05</th>\n",
              "      <td>0.311093</td>\n",
              "      <td>0.311093</td>\n",
              "      <td>0.34099</td>\n",
              "      <td>0.311093</td>\n",
              "      <td>0.29098</td>\n",
              "      <td>0.533046</td>\n",
              "      <td>0.460788</td>\n",
              "      <td>0.453750</td>\n",
              "    </tr>\n",
              "    <tr>\n",
              "      <th>8/1/21 0:10</th>\n",
              "      <td>0.728736</td>\n",
              "      <td>0.311093</td>\n",
              "      <td>0.34099</td>\n",
              "      <td>0.311093</td>\n",
              "      <td>0.29098</td>\n",
              "      <td>0.532953</td>\n",
              "      <td>0.449426</td>\n",
              "      <td>0.446506</td>\n",
              "    </tr>\n",
              "    <tr>\n",
              "      <th>8/1/21 0:15</th>\n",
              "      <td>0.593111</td>\n",
              "      <td>0.311093</td>\n",
              "      <td>0.34099</td>\n",
              "      <td>0.311093</td>\n",
              "      <td>0.29098</td>\n",
              "      <td>0.504602</td>\n",
              "      <td>0.438602</td>\n",
              "      <td>0.440907</td>\n",
              "    </tr>\n",
              "    <tr>\n",
              "      <th>8/1/21 0:20</th>\n",
              "      <td>0.544008</td>\n",
              "      <td>0.311093</td>\n",
              "      <td>0.34099</td>\n",
              "      <td>0.311093</td>\n",
              "      <td>0.29098</td>\n",
              "      <td>0.303389</td>\n",
              "      <td>0.421492</td>\n",
              "      <td>0.428747</td>\n",
              "    </tr>\n",
              "  </tbody>\n",
              "</table>\n",
              "</div>\n",
              "      <button class=\"colab-df-convert\" onclick=\"convertToInteractive('df-1d00b047-1d05-44f9-b9c8-fc5cecbed798')\"\n",
              "              title=\"Convert this dataframe to an interactive table.\"\n",
              "              style=\"display:none;\">\n",
              "        \n",
              "  <svg xmlns=\"http://www.w3.org/2000/svg\" height=\"24px\"viewBox=\"0 0 24 24\"\n",
              "       width=\"24px\">\n",
              "    <path d=\"M0 0h24v24H0V0z\" fill=\"none\"/>\n",
              "    <path d=\"M18.56 5.44l.94 2.06.94-2.06 2.06-.94-2.06-.94-.94-2.06-.94 2.06-2.06.94zm-11 1L8.5 8.5l.94-2.06 2.06-.94-2.06-.94L8.5 2.5l-.94 2.06-2.06.94zm10 10l.94 2.06.94-2.06 2.06-.94-2.06-.94-.94-2.06-.94 2.06-2.06.94z\"/><path d=\"M17.41 7.96l-1.37-1.37c-.4-.4-.92-.59-1.43-.59-.52 0-1.04.2-1.43.59L10.3 9.45l-7.72 7.72c-.78.78-.78 2.05 0 2.83L4 21.41c.39.39.9.59 1.41.59.51 0 1.02-.2 1.41-.59l7.78-7.78 2.81-2.81c.8-.78.8-2.07 0-2.86zM5.41 20L4 18.59l7.72-7.72 1.47 1.35L5.41 20z\"/>\n",
              "  </svg>\n",
              "      </button>\n",
              "      \n",
              "  <style>\n",
              "    .colab-df-container {\n",
              "      display:flex;\n",
              "      flex-wrap:wrap;\n",
              "      gap: 12px;\n",
              "    }\n",
              "\n",
              "    .colab-df-convert {\n",
              "      background-color: #E8F0FE;\n",
              "      border: none;\n",
              "      border-radius: 50%;\n",
              "      cursor: pointer;\n",
              "      display: none;\n",
              "      fill: #1967D2;\n",
              "      height: 32px;\n",
              "      padding: 0 0 0 0;\n",
              "      width: 32px;\n",
              "    }\n",
              "\n",
              "    .colab-df-convert:hover {\n",
              "      background-color: #E2EBFA;\n",
              "      box-shadow: 0px 1px 2px rgba(60, 64, 67, 0.3), 0px 1px 3px 1px rgba(60, 64, 67, 0.15);\n",
              "      fill: #174EA6;\n",
              "    }\n",
              "\n",
              "    [theme=dark] .colab-df-convert {\n",
              "      background-color: #3B4455;\n",
              "      fill: #D2E3FC;\n",
              "    }\n",
              "\n",
              "    [theme=dark] .colab-df-convert:hover {\n",
              "      background-color: #434B5C;\n",
              "      box-shadow: 0px 1px 3px 1px rgba(0, 0, 0, 0.15);\n",
              "      filter: drop-shadow(0px 1px 2px rgba(0, 0, 0, 0.3));\n",
              "      fill: #FFFFFF;\n",
              "    }\n",
              "  </style>\n",
              "\n",
              "      <script>\n",
              "        const buttonEl =\n",
              "          document.querySelector('#df-1d00b047-1d05-44f9-b9c8-fc5cecbed798 button.colab-df-convert');\n",
              "        buttonEl.style.display =\n",
              "          google.colab.kernel.accessAllowed ? 'block' : 'none';\n",
              "\n",
              "        async function convertToInteractive(key) {\n",
              "          const element = document.querySelector('#df-1d00b047-1d05-44f9-b9c8-fc5cecbed798');\n",
              "          const dataTable =\n",
              "            await google.colab.kernel.invokeFunction('convertToInteractive',\n",
              "                                                     [key], {});\n",
              "          if (!dataTable) return;\n",
              "\n",
              "          const docLinkHtml = 'Like what you see? Visit the ' +\n",
              "            '<a target=\"_blank\" href=https://colab.research.google.com/notebooks/data_table.ipynb>data table notebook</a>'\n",
              "            + ' to learn more about interactive tables.';\n",
              "          element.innerHTML = '';\n",
              "          dataTable['output_type'] = 'display_data';\n",
              "          await google.colab.output.renderOutput(dataTable, element);\n",
              "          const docLink = document.createElement('div');\n",
              "          docLink.innerHTML = docLinkHtml;\n",
              "          element.appendChild(docLink);\n",
              "        }\n",
              "      </script>\n",
              "    </div>\n",
              "  </div>\n",
              "  "
            ]
          },
          "metadata": {},
          "execution_count": 155
        }
      ]
    },
    {
      "cell_type": "code",
      "source": [
        ""
      ],
      "metadata": {
        "id": "3AltXp79oRZq"
      },
      "execution_count": null,
      "outputs": []
    },
    {
      "cell_type": "code",
      "source": [
        "#Splitting to Training set and Test set\n",
        "timesplit= TimeSeriesSplit(n_splits=10)\n",
        "for train_index, test_index in timesplit.split(feature_transform):\n",
        "        X_train, X_test = feature_transform[:len(train_index)], feature_transform[len(train_index): (len(train_index)+len(test_index))]\n",
        "        y_train, y_test = output[:len(train_index)].values.ravel(), output[len(train_index): (len(train_index)+len(test_index))].values.ravel()"
      ],
      "metadata": {
        "id": "6j2O4wSTZSSw"
      },
      "execution_count": 156,
      "outputs": []
    },
    {
      "cell_type": "code",
      "source": [
        "  #Process the data for LSTM\n",
        "trainX =np.array(X_train)\n",
        "testX =np.array(X_test)\n",
        "X_train = trainX.reshape(X_train.shape[0], 1, X_train.shape[1])\n",
        "X_test = testX.reshape(X_test.shape[0], 1, X_test.shape[1])"
      ],
      "metadata": {
        "id": "9AeKOCfNctjh"
      },
      "execution_count": 157,
      "outputs": []
    },
    {
      "cell_type": "code",
      "source": [
        "from keras.models import Sequential, load_model\n",
        "from keras.layers.core import Dense, Dropout, Activation\n",
        "from keras.utils import np_utils"
      ],
      "metadata": {
        "id": "JcCkLipFdBhK"
      },
      "execution_count": 158,
      "outputs": []
    },
    {
      "cell_type": "code",
      "source": [
        "#Building the LSTM Model\n",
        "lstm = Sequential()\n",
        "lstm.add(LSTM(32, input_shape=(1, trainX.shape[1]), activation=\"relu\", return_sequences=False))\n",
        "lstm.add(Dense(1))\n",
        "lstm.compile(loss='mean_squared_error', optimizer='adam')\n",
        "plot_model(lstm, show_shapes=True, show_layer_names=True)"
      ],
      "metadata": {
        "colab": {
          "base_uri": "https://localhost:8080/",
          "height": 312
        },
        "id": "H7OUoGNmcyIL",
        "outputId": "112df47b-cb8d-4586-d1bf-9137d0d3afde"
      },
      "execution_count": 159,
      "outputs": [
        {
          "output_type": "execute_result",
          "data": {
            "text/plain": [
              "<IPython.core.display.Image object>"
            ],
            "image/png": "[encoded data removed]"
          },
          "metadata": {},
          "execution_count": 159
        }
      ]
    },
    {
      "cell_type": "code",
      "source": [
        "history=lstm.fit(X_train, y_train, epochs=100, batch_size=8, verbose=1, shuffle=False)"
      ],
      "metadata": {
        "colab": {
          "base_uri": "https://localhost:8080/"
        },
        "id": "wqYkikgZc1fl",
        "outputId": "a96754b6-5190-4ace-de5b-9ace7c88f345"
      },
      "execution_count": 160,
      "outputs": [
        {
          "output_type": "stream",
          "name": "stdout",
          "text": [
            "Epoch 1/100\n",
            "2619/2619 [==============================] - 7s 2ms/step - loss: 42616860.0000\n",
            "Epoch 2/100\n",
            "2619/2619 [==============================] - 6s 2ms/step - loss: 36973096.0000\n",
            "Epoch 3/100\n",
            "2619/2619 [==============================] - 5s 2ms/step - loss: 30480082.0000\n",
            "Epoch 4/100\n",
            "2619/2619 [==============================] - 6s 2ms/step - loss: 25105806.0000\n",
            "Epoch 5/100\n",
            "2619/2619 [==============================] - 5s 2ms/step - loss: 21628740.0000\n",
            "Epoch 6/100\n",
            "2619/2619 [==============================] - 5s 2ms/step - loss: 19818002.0000\n",
            "Epoch 7/100\n",
            "2619/2619 [==============================] - 5s 2ms/step - loss: 18726408.0000\n",
            "Epoch 8/100\n",
            "2619/2619 [==============================] - 6s 2ms/step - loss: 17622824.0000\n",
            "Epoch 9/100\n",
            "2619/2619 [==============================] - 6s 2ms/step - loss: 16547256.0000\n",
            "Epoch 10/100\n",
            "2619/2619 [==============================] - 5s 2ms/step - loss: 15455983.0000\n",
            "Epoch 11/100\n",
            "2619/2619 [==============================] - 5s 2ms/step - loss: 14391932.0000\n",
            "Epoch 12/100\n",
            "2619/2619 [==============================] - 6s 2ms/step - loss: 13397902.0000\n",
            "Epoch 13/100\n",
            "2619/2619 [==============================] - 6s 2ms/step - loss: 12499759.0000\n",
            "Epoch 14/100\n",
            "2619/2619 [==============================] - 5s 2ms/step - loss: 11708187.0000\n",
            "Epoch 15/100\n",
            "2619/2619 [==============================] - 6s 2ms/step - loss: 11023403.0000\n",
            "Epoch 16/100\n",
            "2619/2619 [==============================] - 6s 2ms/step - loss: 10439094.0000\n",
            "Epoch 17/100\n",
            "2619/2619 [==============================] - 6s 2ms/step - loss: 9945485.0000\n",
            "Epoch 18/100\n",
            "2619/2619 [==============================] - 5s 2ms/step - loss: 9531511.0000\n",
            "Epoch 19/100\n",
            "2619/2619 [==============================] - 6s 2ms/step - loss: 9186234.0000\n",
            "Epoch 20/100\n",
            "2619/2619 [==============================] - 6s 2ms/step - loss: 8899572.0000\n",
            "Epoch 21/100\n",
            "2619/2619 [==============================] - 6s 2ms/step - loss: 8662381.0000\n",
            "Epoch 22/100\n",
            "2619/2619 [==============================] - 5s 2ms/step - loss: 8466627.0000\n",
            "Epoch 23/100\n",
            "2619/2619 [==============================] - 6s 2ms/step - loss: 8305102.5000\n",
            "Epoch 24/100\n",
            "2619/2619 [==============================] - 5s 2ms/step - loss: 8171462.5000\n",
            "Epoch 25/100\n",
            "2619/2619 [==============================] - 6s 2ms/step - loss: 8059915.0000\n",
            "Epoch 26/100\n",
            "2619/2619 [==============================] - 5s 2ms/step - loss: 7965412.5000\n",
            "Epoch 27/100\n",
            "2619/2619 [==============================] - 6s 2ms/step - loss: 7884235.5000\n",
            "Epoch 28/100\n",
            "2619/2619 [==============================] - 5s 2ms/step - loss: 7814335.5000\n",
            "Epoch 29/100\n",
            "2619/2619 [==============================] - 6s 2ms/step - loss: 7754783.0000\n",
            "Epoch 30/100\n",
            "2619/2619 [==============================] - 6s 2ms/step - loss: 7704400.5000\n",
            "Epoch 31/100\n",
            "2619/2619 [==============================] - 6s 2ms/step - loss: 7661674.0000\n",
            "Epoch 32/100\n",
            "2619/2619 [==============================] - 6s 2ms/step - loss: 7625299.5000\n",
            "Epoch 33/100\n",
            "2619/2619 [==============================] - 6s 2ms/step - loss: 7594265.5000\n",
            "Epoch 34/100\n",
            "2619/2619 [==============================] - 6s 2ms/step - loss: 7567742.5000\n",
            "Epoch 35/100\n",
            "2619/2619 [==============================] - 5s 2ms/step - loss: 7544975.0000\n",
            "Epoch 36/100\n",
            "2619/2619 [==============================] - 6s 2ms/step - loss: 7525364.0000\n",
            "Epoch 37/100\n",
            "2619/2619 [==============================] - 6s 2ms/step - loss: 7508343.0000\n",
            "Epoch 38/100\n",
            "2619/2619 [==============================] - 5s 2ms/step - loss: 7493483.5000\n",
            "Epoch 39/100\n",
            "2619/2619 [==============================] - 6s 2ms/step - loss: 7480428.5000\n",
            "Epoch 40/100\n",
            "2619/2619 [==============================] - 5s 2ms/step - loss: 7468873.0000\n",
            "Epoch 41/100\n",
            "2619/2619 [==============================] - 6s 2ms/step - loss: 7458585.0000\n",
            "Epoch 42/100\n",
            "2619/2619 [==============================] - 6s 2ms/step - loss: 7449377.0000\n",
            "Epoch 43/100\n",
            "2619/2619 [==============================] - 6s 2ms/step - loss: 7441052.5000\n",
            "Epoch 44/100\n",
            "2619/2619 [==============================] - 6s 2ms/step - loss: 7433508.5000\n",
            "Epoch 45/100\n",
            "2619/2619 [==============================] - 6s 2ms/step - loss: 7426641.5000\n",
            "Epoch 46/100\n",
            "2619/2619 [==============================] - 6s 2ms/step - loss: 7420333.5000\n",
            "Epoch 47/100\n",
            "2619/2619 [==============================] - 6s 2ms/step - loss: 7414544.0000\n",
            "Epoch 48/100\n",
            "2619/2619 [==============================] - 6s 2ms/step - loss: 7409189.5000\n",
            "Epoch 49/100\n",
            "2619/2619 [==============================] - 6s 2ms/step - loss: 7404208.0000\n",
            "Epoch 50/100\n",
            "2619/2619 [==============================] - 6s 2ms/step - loss: 7399582.5000\n",
            "Epoch 51/100\n",
            "2619/2619 [==============================] - 5s 2ms/step - loss: 7395236.5000\n",
            "Epoch 52/100\n",
            "2619/2619 [==============================] - 6s 2ms/step - loss: 7391178.0000\n",
            "Epoch 53/100\n",
            "2619/2619 [==============================] - 5s 2ms/step - loss: 7387343.5000\n",
            "Epoch 54/100\n",
            "2619/2619 [==============================] - 6s 2ms/step - loss: 7383751.0000\n",
            "Epoch 55/100\n",
            "2619/2619 [==============================] - 6s 2ms/step - loss: 7380330.5000\n",
            "Epoch 56/100\n",
            "2619/2619 [==============================] - 6s 2ms/step - loss: 7377084.0000\n",
            "Epoch 57/100\n",
            "2619/2619 [==============================] - 5s 2ms/step - loss: 7373999.0000\n",
            "Epoch 58/100\n",
            "2619/2619 [==============================] - 6s 2ms/step - loss: 7371054.0000\n",
            "Epoch 59/100\n",
            "2619/2619 [==============================] - 5s 2ms/step - loss: 7368230.5000\n",
            "Epoch 60/100\n",
            "2619/2619 [==============================] - 5s 2ms/step - loss: 7365543.5000\n",
            "Epoch 61/100\n",
            "2619/2619 [==============================] - 5s 2ms/step - loss: 7362933.5000\n",
            "Epoch 62/100\n",
            "2619/2619 [==============================] - 6s 2ms/step - loss: 7360433.5000\n",
            "Epoch 63/100\n",
            "2619/2619 [==============================] - 6s 2ms/step - loss: 7358010.0000\n",
            "Epoch 64/100\n",
            "2619/2619 [==============================] - 6s 2ms/step - loss: 7355670.5000\n",
            "Epoch 65/100\n",
            "2619/2619 [==============================] - 5s 2ms/step - loss: 7353392.0000\n",
            "Epoch 66/100\n",
            "2619/2619 [==============================] - 6s 2ms/step - loss: 7351202.0000\n",
            "Epoch 67/100\n",
            "2619/2619 [==============================] - 6s 2ms/step - loss: 7349058.0000\n",
            "Epoch 68/100\n",
            "2619/2619 [==============================] - 6s 2ms/step - loss: 7346984.0000\n",
            "Epoch 69/100\n",
            "2619/2619 [==============================] - 6s 2ms/step - loss: 7344927.0000\n",
            "Epoch 70/100\n",
            "2619/2619 [==============================] - 5s 2ms/step - loss: 7342938.5000\n",
            "Epoch 71/100\n",
            "2619/2619 [==============================] - 6s 2ms/step - loss: 7340985.5000\n",
            "Epoch 72/100\n",
            "2619/2619 [==============================] - 5s 2ms/step - loss: 7339085.0000\n",
            "Epoch 73/100\n",
            "2619/2619 [==============================] - 6s 2ms/step - loss: 7337210.0000\n",
            "Epoch 74/100\n",
            "2619/2619 [==============================] - 6s 2ms/step - loss: 7335367.0000\n",
            "Epoch 75/100\n",
            "2619/2619 [==============================] - 5s 2ms/step - loss: 7333547.5000\n",
            "Epoch 76/100\n",
            "2619/2619 [==============================] - 5s 2ms/step - loss: 7331758.0000\n",
            "Epoch 77/100\n",
            "2619/2619 [==============================] - 5s 2ms/step - loss: 7330000.5000\n",
            "Epoch 78/100\n",
            "2619/2619 [==============================] - 6s 2ms/step - loss: 7328256.0000\n",
            "Epoch 79/100\n",
            "2619/2619 [==============================] - 6s 2ms/step - loss: 7326530.5000\n",
            "Epoch 80/100\n",
            "2619/2619 [==============================] - 6s 2ms/step - loss: 7324829.0000\n",
            "Epoch 81/100\n",
            "2619/2619 [==============================] - 6s 2ms/step - loss: 7323139.0000\n",
            "Epoch 82/100\n",
            "2619/2619 [==============================] - 5s 2ms/step - loss: 7321462.5000\n",
            "Epoch 83/100\n",
            "2619/2619 [==============================] - 6s 2ms/step - loss: 7319808.0000\n",
            "Epoch 84/100\n",
            "2619/2619 [==============================] - 11s 4ms/step - loss: 7318148.5000\n",
            "Epoch 85/100\n",
            "2619/2619 [==============================] - 8s 3ms/step - loss: 7316512.0000\n",
            "Epoch 86/100\n",
            "2619/2619 [==============================] - 6s 2ms/step - loss: 7314867.0000\n",
            "Epoch 87/100\n",
            "2619/2619 [==============================] - 6s 2ms/step - loss: 7313241.0000\n",
            "Epoch 88/100\n",
            "2619/2619 [==============================] - 6s 2ms/step - loss: 7311629.5000\n",
            "Epoch 89/100\n",
            "2619/2619 [==============================] - 6s 2ms/step - loss: 7309995.5000\n",
            "Epoch 90/100\n",
            "2619/2619 [==============================] - 5s 2ms/step - loss: 7308378.0000\n",
            "Epoch 91/100\n",
            "2619/2619 [==============================] - 6s 2ms/step - loss: 7306767.5000\n",
            "Epoch 92/100\n",
            "2619/2619 [==============================] - 6s 2ms/step - loss: 7305151.5000\n",
            "Epoch 93/100\n",
            "2619/2619 [==============================] - 6s 2ms/step - loss: 7303533.0000\n",
            "Epoch 94/100\n",
            "2619/2619 [==============================] - 5s 2ms/step - loss: 7301917.0000\n",
            "Epoch 95/100\n",
            "2619/2619 [==============================] - 6s 2ms/step - loss: 7300303.0000\n",
            "Epoch 96/100\n",
            "2619/2619 [==============================] - 6s 2ms/step - loss: 7298699.5000\n",
            "Epoch 97/100\n",
            "2619/2619 [==============================] - 6s 2ms/step - loss: 7297070.5000\n",
            "Epoch 98/100\n",
            "2619/2619 [==============================] - 6s 2ms/step - loss: 7295444.0000\n",
            "Epoch 99/100\n",
            "2619/2619 [==============================] - 6s 2ms/step - loss: 7293819.5000\n",
            "Epoch 100/100\n",
            "2619/2619 [==============================] - 6s 2ms/step - loss: 7292205.0000\n"
          ]
        }
      ]
    },
    {
      "cell_type": "code",
      "source": [
        "#LSTM Prediction\n",
        "y_pred= lstm.predict(X_test)"
      ],
      "metadata": {
        "id": "qCDtrIindfIS"
      },
      "execution_count": 161,
      "outputs": []
    },
    {
      "cell_type": "code",
      "source": [
        "#Predicted plot\n",
        "plt.plot(y_test, label='True Value')\n",
        "plt.plot(y_pred, label='LSTM Value')\n",
        "plt.title(\"Prediction by LSTM\")\n",
        "plt.xlabel(\"Time Scale\")\n",
        "plt.ylabel(\"Scaled\")\n",
        "plt.legend()\n",
        "plt.show()"
      ],
      "metadata": {
        "colab": {
          "base_uri": "https://localhost:8080/",
          "height": 295
        },
        "id": "iXAVKkeLfvcg",
        "outputId": "5d2c1048-3e79-444a-bfee-7df176dcdc4f"
      },
      "execution_count": 162,
      "outputs": [
        {
          "output_type": "display_data",
          "data": {
            "text/plain": [
              "<Figure size 432x288 with 1 Axes>"
            ],
            "image/png": "[encoded data removed]"
          },
          "metadata": {
            "needs_background": "light"
          }
        }
      ]
    },
    {
      "cell_type": "code",
      "source": [
        ""
      ],
      "metadata": {
        "id": "ck3wX-TEgGC0"
      },
      "execution_count": null,
      "outputs": []
    }
  ]
}